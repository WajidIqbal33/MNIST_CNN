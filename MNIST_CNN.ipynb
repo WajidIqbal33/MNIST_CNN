{
 "cells": [
  {
   "cell_type": "code",
   "execution_count": 71,
   "id": "2d20e2f8",
   "metadata": {},
   "outputs": [],
   "source": [
    "import torch\n",
    "import numpy as np\n",
    "import os\n",
    "from torchvision import datasets\n",
    "from torchvision import transforms\n",
    "import matplotlib.pyplot as plt\n",
    "from PIL import Image\n",
    "from sklearn.metrics import confusion_matrix\n",
    "from sklearn.metrics import precision_score, recall_score, accuracy_score, f1_score\n",
    "import torch.optim as optim \n",
    "import torch.nn as nn"
   ]
  },
  {
   "cell_type": "code",
   "execution_count": 72,
   "id": "c4c83e8f",
   "metadata": {},
   "outputs": [],
   "source": [
    "\n",
    "learning_rate = 0.003\n",
    "N_Epochs      = 20\n",
    "batch_size    = 32\n",
    "\n"
   ]
  },
  {
   "cell_type": "markdown",
   "id": "d262bf4c",
   "metadata": {},
   "source": [
    "### Get the data"
   ]
  },
  {
   "cell_type": "code",
   "execution_count": 73,
   "id": "f2ede480",
   "metadata": {},
   "outputs": [],
   "source": [
    "data_path = \"data/MNISTdata/\"\n",
    "mnist_train = datasets.MNIST(data_path, train = True , download = True)\n",
    "\n"
   ]
  },
  {
   "cell_type": "code",
   "execution_count": 74,
   "id": "03456521",
   "metadata": {},
   "outputs": [],
   "source": [
    "mnist_test = datasets.MNIST(data_path, train = False, download = True)"
   ]
  },
  {
   "cell_type": "code",
   "execution_count": 75,
   "id": "8716f76a",
   "metadata": {},
   "outputs": [],
   "source": [
    "mnist_train_tr = datasets.MNIST(data_path , train = True, download = False,\n",
    "                               transform = transforms.Compose([transforms.ToTensor()]))\n",
    "\n",
    "mnist_test_tr = datasets.MNIST(data_path , train = False, download = False,\n",
    "                               transform = transforms.Compose([transforms.ToTensor()]))"
   ]
  },
  {
   "cell_type": "markdown",
   "id": "37d16415",
   "metadata": {},
   "source": [
    "### Display Image"
   ]
  },
  {
   "cell_type": "code",
   "execution_count": 76,
   "id": "f48061fe",
   "metadata": {},
   "outputs": [
    {
     "data": {
      "image/png": "[encoded data removed]",
      "text/plain": [
       "<PIL.Image.Image image mode=L size=28x28>"
      ]
     },
     "execution_count": 76,
     "metadata": {},
     "output_type": "execute_result"
    }
   ],
   "source": [
    "Image.fromarray(mnist_test_tr.data[123].numpy())"
   ]
  },
  {
   "cell_type": "code",
   "execution_count": 77,
   "id": "21a8f2f9",
   "metadata": {},
   "outputs": [
    {
     "data": {
      "image/png": "[encoded data removed]",
      "text/plain": [
       "<PIL.Image.Image image mode=L size=28x28>"
      ]
     },
     "execution_count": 77,
     "metadata": {},
     "output_type": "execute_result"
    }
   ],
   "source": [
    "Image.fromarray(mnist_test_tr.data[12].numpy())"
   ]
  },
  {
   "cell_type": "code",
   "execution_count": 79,
   "id": "3d167c40",
   "metadata": {},
   "outputs": [
    {
     "data": {
      "image/png": "[encoded data removed]",
      "text/plain": [
       "<PIL.Image.Image image mode=L size=28x28>"
      ]
     },
     "execution_count": 79,
     "metadata": {},
     "output_type": "execute_result"
    }
   ],
   "source": [
    "Image.fromarray(mnist_test_tr.data[1].numpy())"
   ]
  },
  {
   "cell_type": "code",
   "execution_count": 80,
   "id": "90ea39a0",
   "metadata": {},
   "outputs": [
    {
     "data": {
      "text/plain": [
       "torch.Size([60000, 28, 28])"
      ]
     },
     "execution_count": 80,
     "metadata": {},
     "output_type": "execute_result"
    }
   ],
   "source": [
    "### mnist_train_tr = mnist_train_tr.data (60000, 1, 28, 28)\n",
    "\n",
    "mnist_train_tr.data.shape"
   ]
  },
  {
   "cell_type": "code",
   "execution_count": 81,
   "id": "1e50b0b7",
   "metadata": {},
   "outputs": [
    {
     "data": {
      "text/plain": [
       "torch.Size([10000, 28, 28])"
      ]
     },
     "execution_count": 81,
     "metadata": {},
     "output_type": "execute_result"
    }
   ],
   "source": [
    "mnist_test_tr.data.shape"
   ]
  },
  {
   "cell_type": "markdown",
   "id": "6cdde313",
   "metadata": {},
   "source": [
    "### Create Data Loaders"
   ]
  },
  {
   "cell_type": "code",
   "execution_count": 95,
   "id": "a7e2a293",
   "metadata": {},
   "outputs": [],
   "source": [
    "batch_size = 32\n",
    "\n",
    "train_dl  = torch.utils.data.DataLoader(mnist_train_tr, batch_size=batch_size, shuffle=True  ) \n",
    "\n",
    "test_dl   = torch.utils.data.DataLoader(mnist_test_tr,  batch_size=10000,      shuffle=False ) \n"
   ]
  },
  {
   "cell_type": "markdown",
   "id": "c21f65f9",
   "metadata": {},
   "source": [
    "### Metrics function"
   ]
  },
  {
   "cell_type": "code",
   "execution_count": 116,
   "id": "bff4d6f9",
   "metadata": {},
   "outputs": [],
   "source": [
    "\n",
    "def print_metrics_function(y_test, y_pred):\n",
    "    print('Accuracy: %.2f' % accuracy_score(y_test, y_pred))\n",
    "    confmat = confusion_matrix(y_true=y_test, y_pred=y_pred)\n",
    "    print(\"Confusion Matrix:\")\n",
    "    print(confmat)\n",
    "    print('Precision: %.3f' % precision_score(y_true=y_test, y_pred=y_pred, average='weighted'))\n",
    "    print('Recall: %.3f' % recall_score(y_true=y_test, y_pred=y_pred, average='weighted'))\n",
    "    f1_measure = f1_score(y_true=y_test, y_pred=y_pred, average='weighted')\n",
    "    print('F1-mesure: %.3f' % f1_measure)\n",
    "    return f1_measure"
   ]
  },
  {
   "cell_type": "markdown",
   "id": "a1dcb24c",
   "metadata": {},
   "source": [
    "### CNN Architecture"
   ]
  },
  {
   "cell_type": "code",
   "execution_count": 117,
   "id": "14c86623",
   "metadata": {},
   "outputs": [],
   "source": [
    "\n",
    "class Classifier_CNN(nn.Module):\n",
    "    \n",
    "    def __init__(self):\n",
    "        \n",
    "        super().__init__()\n",
    "            \n",
    "        self.model = nn.Sequential(\n",
    "                \n",
    "                ## Convolitional Layer 1\n",
    "                nn.Conv2d(1, 16, kernel_size=5, stride=1, padding=1),\n",
    "                nn.ReLU(),\n",
    "                nn.MaxPool2d(2, 2), \n",
    " \n",
    "                ## Convolutional Layer 2\n",
    "                nn.Conv2d(16, 32, kernel_size=5, stride=1, padding=1),\n",
    "                nn.ReLU(),\n",
    "                nn.MaxPool2d(2, 2),   \n",
    " \n",
    "                ## feed forward layer \n",
    "                nn.Flatten(),\n",
    "                nn.Linear(800, 1024),    ## see how to get 800 below on last cell\n",
    "                nn.ReLU(),\n",
    "\n",
    "                nn.Linear(1024, 10),\n",
    "                nn.LogSoftmax(dim=1)\n",
    "        )\n",
    "   \n",
    "    def forward(self, inputs):\n",
    "            \n",
    "        return self.model(inputs)\n",
    "    \n",
    "    \n"
   ]
  },
  {
   "cell_type": "markdown",
   "id": "be9315b1",
   "metadata": {},
   "source": [
    "### Training the model"
   ]
  },
  {
   "cell_type": "code",
   "execution_count": 118,
   "id": "174344a1",
   "metadata": {},
   "outputs": [],
   "source": [
    "def training_loop( N_Epochs, model, loss_fn, opt  ):\n",
    "    \n",
    "    losses_list = []\n",
    "    \n",
    "    for epoch in range(N_Epochs):\n",
    "        for xb, yb in train_dl:\n",
    "            \n",
    "            ## print( xb.shape )   ## check this comes out as [N, 1, 28, 28]\n",
    "            ## yb = torch.squeeze(yb, dim=1)\n",
    "            \n",
    "            y_pred = model(xb)\n",
    "            loss   = loss_fn(y_pred, yb)\n",
    "       \n",
    "            opt.zero_grad()\n",
    "            loss.backward()\n",
    "            opt.step()\n",
    "            \n",
    "        if epoch % 1 == 0:\n",
    "            print(epoch, \"loss=\", loss)\n",
    "            losses_list.append(  loss  )\n",
    "            \n",
    "    return losses_list"
   ]
  },
  {
   "cell_type": "code",
   "execution_count": 119,
   "id": "0238d4e7",
   "metadata": {},
   "outputs": [],
   "source": [
    "### train the model"
   ]
  },
  {
   "cell_type": "code",
   "execution_count": 120,
   "id": "37e6631a",
   "metadata": {},
   "outputs": [
    {
     "name": "stdout",
     "output_type": "stream",
     "text": [
      "0 loss= tensor(0.1025, grad_fn=<NllLossBackward0>)\n",
      "1 loss= tensor(0.2741, grad_fn=<NllLossBackward0>)\n",
      "2 loss= tensor(1.7581e-05, grad_fn=<NllLossBackward0>)\n",
      "3 loss= tensor(0.0002, grad_fn=<NllLossBackward0>)\n",
      "4 loss= tensor(0.0521, grad_fn=<NllLossBackward0>)\n",
      "5 loss= tensor(0.0005, grad_fn=<NllLossBackward0>)\n",
      "6 loss= tensor(5.3193e-06, grad_fn=<NllLossBackward0>)\n",
      "7 loss= tensor(0.0003, grad_fn=<NllLossBackward0>)\n",
      "8 loss= tensor(0.0040, grad_fn=<NllLossBackward0>)\n",
      "9 loss= tensor(0.0220, grad_fn=<NllLossBackward0>)\n",
      "10 loss= tensor(0.0023, grad_fn=<NllLossBackward0>)\n",
      "11 loss= tensor(1.8526e-05, grad_fn=<NllLossBackward0>)\n",
      "12 loss= tensor(3.7253e-08, grad_fn=<NllLossBackward0>)\n",
      "13 loss= tensor(0.1074, grad_fn=<NllLossBackward0>)\n",
      "14 loss= tensor(0.0643, grad_fn=<NllLossBackward0>)\n",
      "15 loss= tensor(2.7939e-06, grad_fn=<NllLossBackward0>)\n",
      "16 loss= tensor(7.8231e-08, grad_fn=<NllLossBackward0>)\n",
      "17 loss= tensor(1.7509e-07, grad_fn=<NllLossBackward0>)\n",
      "18 loss= tensor(6.9662e-07, grad_fn=<NllLossBackward0>)\n",
      "19 loss= tensor(0., grad_fn=<NllLossBackward0>)\n"
     ]
    }
   ],
   "source": [
    "\n",
    "model          = Classifier_CNN()\n",
    "\n",
    "opt            = torch.optim.Adam(    model.parameters(), lr=learning_rate )\n",
    "\n",
    "loss_fn        = nn.CrossEntropyLoss( )   \n",
    "\n",
    "my_losses_list = training_loop(  N_Epochs, model, loss_fn, opt  ) "
   ]
  },
  {
   "cell_type": "markdown",
   "id": "447c934c",
   "metadata": {},
   "source": [
    "### Predicting and Evaluate with out Trained  Model"
   ]
  },
  {
   "cell_type": "code",
   "execution_count": 121,
   "id": "26c0878d",
   "metadata": {},
   "outputs": [
    {
     "name": "stdout",
     "output_type": "stream",
     "text": [
      "Accuracy: 0.99\n",
      "Confusion Matrix:\n",
      "[[ 973    0    1    0    0    0    3    1    0    2]\n",
      " [   1 1119    2    3    0    1    4    3    2    0]\n",
      " [   0    0 1026    0    0    0    0    3    3    0]\n",
      " [   0    0    2 1008    0    0    0    0    0    0]\n",
      " [   0    0    1    0  962    0    1    2    1   15]\n",
      " [   1    0    0   10    0  875    1    1    2    2]\n",
      " [   0    1    1    0    1    0  953    0    2    0]\n",
      " [   0    0    2    4    1    0    1 1013    3    4]\n",
      " [   0    0    3    1    0    0    0    0  967    3]\n",
      " [   0    0    2    6    4    2    0    1    1  993]]\n",
      "Precision: 0.989\n",
      "Recall: 0.989\n",
      "F1-mesure: 0.989\n"
     ]
    }
   ],
   "source": [
    "\n",
    "with torch.no_grad():\n",
    "    for x_real, y_real in test_dl:\n",
    "        \n",
    "        y_pred = model(  x_real  )\n",
    "        \n",
    "        vals, indeces = torch.max( y_pred, dim=1  )\n",
    "        preds = indeces\n",
    "        print_metrics_function(y_real, preds)"
   ]
  },
  {
   "cell_type": "code",
   "execution_count": null,
   "id": "b4241457",
   "metadata": {},
   "outputs": [],
   "source": []
  },
  {
   "cell_type": "code",
   "execution_count": null,
   "id": "d4896889",
   "metadata": {},
   "outputs": [],
   "source": []
  },
  {
   "cell_type": "code",
   "execution_count": null,
   "id": "358f981e",
   "metadata": {},
   "outputs": [],
   "source": []
  },
  {
   "cell_type": "code",
   "execution_count": null,
   "id": "6464387a",
   "metadata": {},
   "outputs": [],
   "source": []
  },
  {
   "cell_type": "code",
   "execution_count": null,
   "id": "58d660b3",
   "metadata": {},
   "outputs": [],
   "source": []
  },
  {
   "cell_type": "code",
   "execution_count": null,
   "id": "2a371bd0",
   "metadata": {},
   "outputs": [],
   "source": []
  },
  {
   "cell_type": "code",
   "execution_count": null,
   "id": "021120dd",
   "metadata": {},
   "outputs": [],
   "source": []
  },
  {
   "cell_type": "code",
   "execution_count": null,
   "id": "a8273e46",
   "metadata": {},
   "outputs": [],
   "source": []
  },
  {
   "cell_type": "code",
   "execution_count": null,
   "id": "29eb30a0",
   "metadata": {},
   "outputs": [],
   "source": []
  },
  {
   "cell_type": "code",
   "execution_count": null,
   "id": "2c0ef690",
   "metadata": {},
   "outputs": [],
   "source": []
  },
  {
   "cell_type": "code",
   "execution_count": null,
   "id": "3dfb9686",
   "metadata": {},
   "outputs": [],
   "source": []
  },
  {
   "cell_type": "code",
   "execution_count": null,
   "id": "0725eeab",
   "metadata": {},
   "outputs": [],
   "source": []
  },
  {
   "cell_type": "code",
   "execution_count": null,
   "id": "b71eac05",
   "metadata": {},
   "outputs": [],
   "source": []
  },
  {
   "cell_type": "code",
   "execution_count": null,
   "id": "1dc14241",
   "metadata": {},
   "outputs": [],
   "source": []
  }
 ],
 "metadata": {
  "kernelspec": {
   "display_name": "Python 3 (ipykernel)",
   "language": "python",
   "name": "python3"
  },
  "language_info": {
   "codemirror_mode": {
    "name": "ipython",
    "version": 3
   },
   "file_extension": ".py",
   "mimetype": "text/x-python",
   "name": "python",
   "nbconvert_exporter": "python",
   "pygments_lexer": "ipython3",
   "version": "3.11.3"
  }
 },
 "nbformat": 4,
 "nbformat_minor": 5
}
